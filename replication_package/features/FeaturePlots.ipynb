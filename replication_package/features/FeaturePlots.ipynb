{
 "cells": [
  {
   "cell_type": "markdown",
   "metadata": {
    "id": "q0lfbSRSOFCJ"
   },
   "source": [
    "Analysing Predictive "
   ]
  },
  {
   "cell_type": "markdown",
   "metadata": {
    "id": "a2YDk7uEN-J1"
   },
   "source": [
    "Analysis of Code Feature Impact\n",
    "=========\n",
    "\n",
    "---\n",
    "\n",
    "This file contains code to plot and analyse predictive impact of features most correlated with pass rates in statement edits. \n",
    "\n",
    "This file is used to generate the data used to produce **Table V** of the paper: *Analysing Program Transformation Spaces for Genetic Improvement using Gin*\n",
    "\n",
    "In preliminary analysis we found that though code features weren't strongly correllated with pass rates for single edit patches across projects the strongest correlations were:\n",
    "\n",
    "\n",
    "| Feature       | Correlation           | Edit Type  |\n",
    "| ------------- |-------------| ------|\n",
    "| Average Norm. Def-Use Dist      | 0.204 | (statement edits)  |\n",
    "| Median Norm. Def-Use Dist      | 0.190 | (statement edits) |\n",
    "| Cyclomatic Complexity      | -0.164 | (line edits)  |\n",
    "\n",
    "\n",
    "None of the correlations are significant so we explore what might be preventing them working as a predictive model of GI-ability. We do this by using them and doing a qualitative study of the code where a predictive model built using these features works and (perhaps most importantly) where they **don't** work. \n",
    "\n",
    "The predictive model we choose here is:\n",
    "\n",
    "\n",
    "```python\n",
    "if norm_median_def_use_distance(m) >= 0.5 \n",
    "    and cyclomatic_complexity(m) <= 0.3:\n",
    "    # predict m is APM-able\n",
    "elif orm_median_def_use_distance(m) <= 0.2 \n",
    "    and cyclomatic_complexity(m) >= 0.5:\n",
    "    # predict m is non APM-able\n",
    "else:\n",
    "    # make no prediction either way\n",
    "```\n",
    "\n",
    "The thresholds are chosen so as to leave a gap between the categories -- this avoids the accuracy of our preditions being affected by fuzzy boundaries. They are also chosen so that we have a managable number of methods to look at in each category.  We compare this prediction to actual pass rates. We consider an actual pass rate for a method to to be good if the average number of random statement edits on that methods that *still* pass all the tests is greater than or equal to 50%.  Conversely, we consider the pass rate for the method to be poor if the number of tests passed on random edits is less than or equal to 20%. \n",
    "\n",
    "Now we have a prediction of GI-ability (in our model above) and the actual GI-ability (measured in terms of pass rates). So now we can come up with a simple confusion matrix:\n",
    "\n",
    "|        | Predicted APM-able          | Predicted non-GI able   |\n",
    "| ------------- |-------------| ------|\n",
    "| **Actual GI-Able**      | Predictably good methods | Surprisingly good methods |\n",
    "| **Actual non-GI-Able**     | Suprisingly bad methods  | Predictably bad methods |\n",
    "\n",
    "By inspecting the methods identified in each cell we can see which features might be contributing to its unpredictability or otherwise. The most interesting category is the suprisingly bad methods - this (well-populated) category has some interesting features - outlined in the text later in this file - that defeat our simple model. This might inform future work in predicting GI-ability of methods. \n",
    "\n",
    "One last caveat is that our predictive model is ad-hoc based on the correlations and features we have seen in the code. Minor adjustments to the model might give slightly better results (try this in the code below!). The current model is primarily designed as a starting point for identifying method features that might stymie simple predictive models of GI-ability. "
   ]
  },
  {
   "cell_type": "code",
   "execution_count": 1,
   "metadata": {
    "colab": {
     "base_uri": "https://localhost:8080/",
     "height": 310,
     "resources": {
      "http://localhost:8080/nbextensions/google.colab/files.js": {
       "data": "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",
       "headers": [
        [
         "content-type",
         "application/javascript"
        ]
       ],
       "ok": true,
       "status": 200,
       "status_text": ""
      }
     }
    },
    "id": "HglLNwFso1EC",
    "outputId": "add89ac4-9e0f-46b7-a216-b67f0d2dd398"
   },
   "outputs": [
    {
     "name": "stdout",
     "output_type": "stream",
     "text": [
      "     CompositeKey    Project  MethodIndex  \\\n",
      "0       junit4331     junit4          331   \n",
      "1           gson7       gson            7   \n",
      "2          spark9      spark            9   \n",
      "3       opennlp57    opennlp           57   \n",
      "4           gson2       gson            2   \n",
      "..            ...        ...          ...   \n",
      "462      druid752      druid          752   \n",
      "463     junit4570     junit4          570   \n",
      "464  mybatis-3193  mybatis-3          193   \n",
      "465     junit4302     junit4          302   \n",
      "466       arthas2     arthas            2   \n",
      "\n",
      "                                            MethodName  MethodLength  \\\n",
      "0       junit.runner.BaseTestRunner.filterLine(String)            12   \n",
      "1    com.google.gson.Gson.atomicLongArrayAdapter(Ty...            24   \n",
      "2    spark.staticfiles.StaticFilesConfiguration.con...            11   \n",
      "3        opennlp.tools.util.AbstractEventStream.read()            40   \n",
      "4                 com.google.gson.GsonBuilder.create()            11   \n",
      "..                                                 ...           ...   \n",
      "462  com.alibaba.druid.pool.DruidPooledStatement.in...            16   \n",
      "463  org.junit.internal.runners.ClassRoadie.runBefo...            12   \n",
      "464  org.apache.ibatis.mapping.CacheBuilder.setStan...            19   \n",
      "465  junit.textui.ResultPrinter.printFooter(TestRes...            13   \n",
      "466  com.taobao.arthas.core.view.ObjectView.renderO...           519   \n",
      "\n",
      "     EditDensity  AveUseDefDist  AveUseDefDist/MethodLength  MedDefUseDist  \\\n",
      "0       2.083333       8.500000                       0.708           10.5   \n",
      "1       5.500000      15.666667                       0.653           23.0   \n",
      "2      16.454545       7.111111                       0.646            9.0   \n",
      "3       1.400000      28.400000                       0.710           35.0   \n",
      "4      11.454546       8.096774                       0.736           11.0   \n",
      "..           ...            ...                         ...            ...   \n",
      "462     1.187500       2.714286                       0.170            1.0   \n",
      "463     2.416667       3.333333                       0.278            1.0   \n",
      "464     1.894737       4.052632                       0.213            2.0   \n",
      "465     1.769231       5.562500                       0.428            4.0   \n",
      "466     6.427746     130.182045                       0.251           15.0   \n",
      "\n",
      "     MedUseDefDist/MethodLength  ...  cyc/length  ncss/length  npath/length  \\\n",
      "0                      0.875000  ...    0.250000     0.500000      0.250000   \n",
      "1                      0.958333  ...    0.041667     0.791667      0.041667   \n",
      "2                      0.818182  ...    0.272727     0.909091      0.272727   \n",
      "3                      0.875000  ...    0.125000     0.250000      0.175000   \n",
      "4                      1.000000  ...    0.090909     0.818182      0.090909   \n",
      "..                          ...  ...         ...          ...           ...   \n",
      "462                    0.062500  ...    0.250000     0.687500      0.500000   \n",
      "463                    0.083333  ...    0.416667     0.916667      0.583333   \n",
      "464                    0.105263  ...    0.368421     0.842105      1.368421   \n",
      "465                    0.307692  ...    0.230769     0.769231      0.230769   \n",
      "466                    0.028902  ...    0.179191     0.504817      0.235067   \n",
      "\n",
      "     InstCoverage-missed  InstCoverage-covered  InstCoverage  DistTopCorner  \\\n",
      "0                      0                    53      1.000000       1.007782   \n",
      "1                      0                     6      1.000000       0.834374   \n",
      "2                      0                    40      1.000000       1.016395   \n",
      "3                      0                    34      1.000000       0.830885   \n",
      "4                      0                    78      1.000000       0.690476   \n",
      "..                   ...                   ...           ...            ...   \n",
      "462                    3                    18      0.857143       1.101856   \n",
      "463                   28                    13      0.317073       1.052529   \n",
      "464                   14                    57      0.802817       1.011705   \n",
      "465                    0                    68      1.000000       0.725637   \n",
      "466                  377                  1326      0.778626       1.052736   \n",
      "\n",
      "     DistBotCorner  DistTopLeft  DistBotRight  \n",
      "0         0.875000     1.328768      0.125000  \n",
      "1         0.972718     1.269979      0.171796  \n",
      "2         0.818182     1.292061      0.181818  \n",
      "3         0.893036     1.200154      0.217974  \n",
      "4         1.046807     1.215219      0.309524  \n",
      "..             ...          ...           ...  \n",
      "462       0.425666     0.582311      1.027712  \n",
      "463       0.489898     0.523911      1.036018  \n",
      "464       0.538173     0.483812      1.038799  \n",
      "465       0.840923     0.376741      1.044876  \n",
      "466       0.594228     0.407501      1.138114  \n",
      "\n",
      "[467 rows x 33 columns]\n"
     ]
    }
   ],
   "source": [
    "# read file\n",
    "import pandas\n",
    "import csv\n",
    "import re\n",
    "import os\n",
    "'''\n",
    "from google.colab import files\n",
    "uploaded = files.upload()\n",
    "for k in uploaded:\n",
    "  name=k\n",
    "  # the file to read is selected here.\n",
    "  # for this repository you can select the file:\n",
    "  # ./merged_stats_features.csv\n",
    "'''\n",
    "k='merged_stats_features.csv'\n",
    "df = pandas.read_csv(k) # merged_stats_feartures.csv\n",
    "print(df)"
   ]
  },
  {
   "cell_type": "code",
   "execution_count": 2,
   "metadata": {
    "id": "geZqaep7pEP-"
   },
   "outputs": [],
   "source": [
    "# select the columns\n",
    "# select the x values\n",
    "normAveUDDist=df['AveUseDefDist/MethodLength'].to_list() # Average use def distance\n",
    "normMedUDDist=df['MedUseDefDist/MethodLength'].to_list() # Median use def distance\n",
    "normCyc=df['cyc/length'].to_list() \n",
    "normNCSS=df['ncss/length'].to_list()\n",
    "normNPath=df['npath/length'].to_list()\n",
    "# y value\n",
    "propStatementPassed=df['PropStatPassed'].to_list() # proportion of statement edits passed\n"
   ]
  },
  {
   "cell_type": "markdown",
   "metadata": {
    "id": "6kbuR-bEa9ZS"
   },
   "source": [
    "Do some plots - visually inspect the correlations!"
   ]
  },
  {
   "cell_type": "code",
   "execution_count": 3,
   "metadata": {
    "colab": {
     "base_uri": "https://localhost:8080/",
     "height": 295
    },
    "id": "dyNp411fn709",
    "outputId": "1f929ba8-40f2-4956-890a-211f71e1fbb9"
   },
   "outputs": [
    {
     "data": {
      "image/png": "[encoded data removed]",
      "text/plain": [
       "<Figure size 432x288 with 1 Axes>"
      ]
     },
     "metadata": {
      "needs_background": "light"
     },
     "output_type": "display_data"
    }
   ],
   "source": [
    "import matplotlib\n",
    "import matplotlib.pyplot as plt\n",
    "import numpy as np\n",
    "import math\n",
    "\n",
    "# plot 1 - norm average use def distance vs proportion of statement passed\n",
    "# now plot the lines\n",
    "plt.scatter(normAveUDDist,propStatementPassed,s=15)\n",
    "ax=plt.gca()\n",
    "ax.set_xlim(0,1)\n",
    "ax.set_ylim(0,1)\n",
    "plt.xlabel(\"Normalised Ave Use-Def Dist\");\n",
    "plt.ylabel(\"Proportion Statement Edits Passed\");\n",
    "plt.title(\"Avg Use-Def Distance vs. Statement Pass Rate\");\n",
    "  #cbar=plt.colorbar()\n",
    "  #cbar.set_label('proportion passed')\n",
    "  #plt.savefig('imfilesNew/'+hist_dir+'/'+p+'mean_scatter.png')\n",
    "plt.show() # won't work without tkl\n",
    "plt.close()"
   ]
  },
  {
   "cell_type": "code",
   "execution_count": 4,
   "metadata": {
    "colab": {
     "base_uri": "https://localhost:8080/",
     "height": 295
    },
    "id": "PR0K2KP6pWsZ",
    "outputId": "df2154d8-fe54-4d34-cf20-0084358047aa"
   },
   "outputs": [
    {
     "data": {
      "image/png": "[encoded data removed]",
      "text/plain": [
       "<Figure size 432x288 with 1 Axes>"
      ]
     },
     "metadata": {
      "needs_background": "light"
     },
     "output_type": "display_data"
    }
   ],
   "source": [
    "# plot 2 - norm median use def distance vs proportion of statement passed\n",
    "# now plot the lines\n",
    "plt.scatter(normMedUDDist,propStatementPassed,s=15)\n",
    "ax=plt.gca()\n",
    "ax.set_xlim(0,1)\n",
    "ax.set_ylim(0,1)\n",
    "plt.xlabel(\"Normalised Med Use-Def Dist\");\n",
    "plt.ylabel(\"Proportion Statement Edits Passed\");\n",
    "plt.title(\"Med Use-Def Distance vs. Statement Pass Rate\");\n",
    "  #cbar=plt.colorbar()\n",
    "  #cbar.set_label('proportion passed')\n",
    "  #plt.savefig('imfilesNew/'+hist_dir+'/'+p+'mean_scatter.png')\n",
    "plt.show() # won't work without tkl\n",
    "plt.close()"
   ]
  },
  {
   "cell_type": "code",
   "execution_count": 5,
   "metadata": {
    "colab": {
     "base_uri": "https://localhost:8080/",
     "height": 295
    },
    "id": "h-oY_MKqpt5b",
    "outputId": "3ad0c3b1-07a6-492c-bd8f-ca7e6605a78e"
   },
   "outputs": [
    {
     "data": {
      "image/png": "[encoded data removed]",
      "text/plain": [
       "<Figure size 432x288 with 1 Axes>"
      ]
     },
     "metadata": {
      "needs_background": "light"
     },
     "output_type": "display_data"
    }
   ],
   "source": [
    "# plot 3 - norm cyclomatic vs proportion of statement passed\n",
    "# now plot the lines\n",
    "plt.scatter(normCyc,propStatementPassed,s=15)\n",
    "ax=plt.gca()\n",
    "ax.set_xlim(0,1)\n",
    "ax.set_ylim(0,1)\n",
    "plt.xlabel(\"Normalised Cyclomatic Complexity\");\n",
    "plt.ylabel(\"Proportion Statement Edits Passed\");\n",
    "plt.title(\"Cyc vs. Statement Pass Rate\");\n",
    "  #cbar=plt.colorbar()\n",
    "  #cbar.set_label('proportion passed')\n",
    "  #plt.savefig('imfilesNew/'+hist_dir+'/'+p+'mean_scatter.png')\n",
    "plt.show() # won't work without tkl\n",
    "plt.close()"
   ]
  },
  {
   "cell_type": "code",
   "execution_count": 6,
   "metadata": {
    "colab": {
     "base_uri": "https://localhost:8080/",
     "height": 295
    },
    "id": "QfY_Rn8Sp-3-",
    "outputId": "a6a525d8-0d08-4053-a9c9-290297ec8e09"
   },
   "outputs": [
    {
     "data": {
      "image/png": "[encoded data removed]",
      "text/plain": [
       "<Figure size 432x288 with 1 Axes>"
      ]
     },
     "metadata": {
      "needs_background": "light"
     },
     "output_type": "display_data"
    }
   ],
   "source": [
    "# plot 4 - norm ncss vs proportion of statement passed\n",
    "# now plot the lines\n",
    "plt.scatter(normNCSS,propStatementPassed,s=15)\n",
    "ax=plt.gca()\n",
    "ax.set_xlim(0,1)\n",
    "ax.set_ylim(0,1)\n",
    "plt.xlabel(\"Normalised NCSS\");\n",
    "plt.ylabel(\"Proportion Statement Edits Passed\");\n",
    "plt.title(\"NCSS vs. Statement Pass Rate\");\n",
    "  #cbar=plt.colorbar()\n",
    "  #cbar.set_label('proportion passed')\n",
    "  #plt.savefig('imfilesNew/'+hist_dir+'/'+p+'mean_scatter.png')\n",
    "plt.show() # won't work without tkl\n",
    "plt.close()"
   ]
  },
  {
   "cell_type": "code",
   "execution_count": 7,
   "metadata": {
    "colab": {
     "base_uri": "https://localhost:8080/",
     "height": 295
    },
    "id": "sDwADsiKqb2-",
    "outputId": "fd8c9e73-18b7-48b0-8232-c5fd450242b5"
   },
   "outputs": [
    {
     "data": {
      "image/png": "[encoded data removed]",
      "text/plain": [
       "<Figure size 432x288 with 1 Axes>"
      ]
     },
     "metadata": {
      "needs_background": "light"
     },
     "output_type": "display_data"
    }
   ],
   "source": [
    "# plot 5 - norm NPath vs proportion of statement passed\n",
    "# now plot the lines\n",
    "plt.scatter(normNPath,propStatementPassed,s=15)\n",
    "ax=plt.gca()\n",
    "ax.set_xlim(0,1)\n",
    "ax.set_ylim(0,1)\n",
    "plt.xlabel(\"Normalised NPath\");\n",
    "plt.ylabel(\"Proportion Statement Edits Passed\");\n",
    "plt.title(\"NPath vs. Statement Pass Rate\");\n",
    "  #cbar=plt.colorbar()\n",
    "  #cbar.set_label('proportion passed')\n",
    "  #plt.savefig('imfilesNew/'+hist_dir+'/'+p+'mean_scatter.png')\n",
    "plt.show() # won't work without tkl\n",
    "plt.close()"
   ]
  },
  {
   "cell_type": "markdown",
   "metadata": {
    "id": "NFKDGv9sqtN1"
   },
   "source": [
    "\n",
    "# Filters (statements)\n",
    "\n",
    "Now we filter our methods to populate the table from before:\n",
    "\n",
    "\n",
    "|        | Predicted APM-able          | Predicted non-GI able   |\n",
    "| ------------- |-------------| ------|\n",
    "| **Actual GI-Able**      | Predictably good methods | Surprisingly good methods |\n",
    "| **Actual non-GI-Able**     | Suprisingly bad methods  | Predictably bad methods |\n",
    "\n",
    "We get a list of methods in each cell according to the criteria described at the start of this file. We had to relax the cyclomatic complexity constraint for the *surprisingly good methods* there were very few methods. in this category. "
   ]
  },
  {
   "cell_type": "code",
   "execution_count": 8,
   "metadata": {
    "id": "zN4AmI0hprHz"
   },
   "outputs": [],
   "source": [
    "# little filter on coverage\n",
    "dfFilt=df # copy table ref\n",
    "dfFilt=dfFilt.loc[dfFilt['InstCoverage']>=1] # include only those who have 100% coverage"
   ]
  },
  {
   "cell_type": "code",
   "execution_count": 9,
   "metadata": {
    "colab": {
     "base_uri": "https://localhost:8080/"
    },
    "id": "iGmInbf2rFq8",
    "outputId": "f5ed0ab5-af45-432e-cf91-1bdf4bdd24ff",
    "scrolled": true
   },
   "outputs": [
    {
     "name": "stdout",
     "output_type": "stream",
     "text": [
      "       Project  MethodIndex                                         MethodName\n",
      "108      druid          806  com.alibaba.druid.sql.dialect.oracle.parser.Or...\n",
      "113      druid          498  com.alibaba.druid.sql.dialect.mysql.visitor.My...\n",
      "118      druid          505  com.alibaba.druid.sql.dialect.mysql.parser.MyS...\n",
      "141       gson           41    com.google.gson.stream.JsonWriter.beforeValue()\n",
      "144  mybatis-3           38  org.apache.ibatis.builder.xml.XMLConfigBuilder...\n",
      "173  spatial4j           27  org.locationtech.spatial4j.context.SpatialCont...\n",
      "216  mybatis-3          178  org.apache.ibatis.builder.xml.XMLMapperBuilder...\n"
     ]
    }
   ],
   "source": [
    "\n",
    "# apply filters Good Citizens (high pass)\n",
    "aveUDThresh=0.5;\n",
    "medUDThresh=0.5;\n",
    "cycThresh=0.3;\n",
    "passThresh=0.5;\n",
    "\n",
    "dfFilt=dfFilt.loc[dfFilt['PropStatPassed']>=passThresh]\n",
    "# \n",
    "#dfFilt=dfFilt.loc[dfFilt['AveUseDefDist/MethodLength']>=aveUDThresh]\n",
    "# \n",
    "dfFilt=dfFilt.loc[dfFilt['MedUseDefDist/MethodLength']>=medUDThresh]\n",
    "# \n",
    "dfFilt=dfFilt.loc[dfFilt['cyc/length']<=cycThresh]\n",
    "# \n",
    "#pandas.set_option('display.max_colwidth', None)\n",
    "print(dfFilt[['Project','MethodIndex','MethodName']])\n",
    "dfFilt.to_csv('predictably_good.csv')"
   ]
  },
  {
   "cell_type": "markdown",
   "metadata": {
    "id": "yApmVdBCwjTN"
   },
   "source": [
    "```\n",
    "# This is formatted as code\n",
    "```\n",
    "\n",
    "# Predictably APM-able Methods (statements)\n",
    "\n",
    "\n",
    "\n",
    "***com.alibaba.druid.pool.DruidDataSource.emptySignal()***\n",
    "> Method starts with three guards that, if true, just return.\n",
    "> The last three lines to a simple update to the object state.\n",
    "> If edits hit the guards and tests don't activate them then edits will be neutral (incomplete coverage)\n",
    "\n",
    "\n",
    "\n",
    "***com.alibaba.druid.pool.DruidDataSource.putLast(DruidConnectionHolder,long)***\n",
    "\n",
    "> Some guarded assignments - guards activated when maximum counts reached (are these tested? Few inter-statement dependencies. Opportunities for reordering. (Incomplete coverage?)\n",
    "\n",
    "\n",
    "***com.alibaba.druid.sql.dialect.oracle.parser.OracleExprParser.partitionClauseRest(SQLPartitionBy)***\n",
    "\n",
    "> Two guarded if statements that could be reordered without affecting semantics (these, between them, contain all the code in the method. However, within each, if statements are sequenced calls to a state dependent tokeniser. This code could be fragile to edits if exercised by tests. \n",
    "**This might not be as amenable to line-edits (this prediction is wrong in this case)\n",
    "\n",
    "***com.alibaba.druid.sql.dialect.mysql.visitor.MySqlOutputVisitor.visit(SQLExprTableSource)***\n",
    "> Prints out structures from its parameter. A for loop sandwiched between two if-statements. The body's of these if statements are likely to be executed for non-null input and the sequencing matters if the tests check what is printed (do tests check stdout?). (incomplete coverage?)\n",
    "\n",
    "***com.google.gson.stream.JsonWriter.beforeValue()***\n",
    ">Case statement dependent on current parser state no assignment to local state in any clause. Most clauses disjoint and can be reordered.(malleable code)\n",
    "\n",
    "***org.apache.ibatis.builder.xml.XMLConfigBuilder.settingsElement(Properties)***\n",
    ">One long sequence of independent assignments to a global config structure. Very easy to reorder statements. Not clear that all settings would exercised in tests (there are lot of config assignments). \n",
    "\n",
    "***org.locationtech.spatial4j.context.SpatialContextFactory.checkDefaultFormats()***\n",
    "> Two guarded if statements (active if reader or writer instance variables are empty) that add to state of the reader and writer. Statements in if statements add list of handlers - there doesn't seem to be a necessary sequential ordering between them.\n",
    "\n",
    "*** org.apache.ibatis.builder.xml.XMLMapperBuilder.bindMapperForNamespace()***\n",
    ">Conditionally updates a global configuration structure no local references. \n",
    "\n",
    "\n",
    "## summary\n",
    "\n",
    "Some indications for some methods of code being difficult to test throughly (e.g. reliant on structures being completely full or reliant on tests looking at stdout). In others, signs that code could be easily reorded e.g. independent assignment statements.\n"
   ]
  },
  {
   "cell_type": "code",
   "execution_count": 19,
   "metadata": {
    "colab": {
     "base_uri": "https://localhost:8080/"
    },
    "id": "zFvLrx8RwIzH",
    "outputId": "31f22993-a7a5-42a3-a627-dae68cc16143"
   },
   "outputs": [
    {
     "name": "stdout",
     "output_type": "stream",
     "text": [
      "     Project  MethodIndex                                         MethodName\n",
      "297   jcodec          404  org.jcodec.codecs.h264.io.CABAC.readIntraChrom...\n",
      "300  opennlp           18  opennlp.tools.ml.model.ComparableEvent.compare...\n",
      "308   jcodec          125  org.jcodec.codecs.h264.decode.SliceReader.read...\n",
      "331    spark           18  spark.utils.MimeParse.fitnessAndQualityParsed(...\n",
      "420   arthas            3  com.taobao.arthas.core.util.TokenUtils.findSec...\n"
     ]
    }
   ],
   "source": [
    "# copy table\n",
    "dfFilt=df\n",
    "# apply filters Good Citizens (low pass)\n",
    "aveUDThresh=0.3;\n",
    "medUDThresh=0.2;\n",
    "cycThresh=0.5;\n",
    "passThresh=0.2;\n",
    "\n",
    "dfFilt=dfFilt.loc[dfFilt['PropStatPassed']<=passThresh]\n",
    "# \n",
    "#dfFilt=dfFilt.loc[dfFilt['AveUseDefDist/MethodLength']<=aveUDThresh]\n",
    "# \n",
    "dfFilt=dfFilt.loc[dfFilt['MedUseDefDist/MethodLength']<=medUDThresh]\n",
    "# \n",
    "dfFilt=dfFilt.loc[dfFilt['cyc/length']>=cycThresh]\n",
    "# \n",
    "#pandas.set_option('display.max_colwidth', None)\n",
    "print(dfFilt[['Project','MethodIndex','MethodName']])\n",
    "dfFilt.to_csv('predictably_bad.csv')"
   ]
  },
  {
   "cell_type": "markdown",
   "metadata": {
    "id": "1N_r667T2QiD"
   },
   "source": [
    "# Predictably Non-GI-Able methods (statements)\n",
    "\n",
    "**org.jcodec.codecs.h264.io.CABAC.readIntraChromaPredMode**\n",
    "> Cascading conditional execution with sequential dependencies on statements which are, in turn, dependent on all function parameters. Return value dependent on selection of right condition. \n",
    "\n",
    "**opennlp.tools.ml.model.ComparableEvent.compareTo**\n",
    "> Code for structural comparision of input parameters. Sequential logic at start of method controling a loop which traverses equivalent of tagged union structure with nested cascading logic.\n",
    "\n",
    "**org.jcodec.codecs.h264.decode.SliceReader.readPredictionI4x4Block**\n",
    "> sequential logic feeding two guarded if-statements (complex guards) updating a statement setting a return value.\n",
    "\n",
    "**spark.utils.MimeParse.fitnessAndQualityParsed**\n",
    "> sequential logic feeding nested loop with guarded if statements interspersed with sequential logic.\n",
    "\n",
    "**com.taobao.arthas.core.util.TokenUtils.findSecondTokenText**\n",
    "> as above.\n",
    "\n",
    "## summary\n",
    "\n",
    "Code has strong sequential dependencies that would be broken by code movement.\n"
   ]
  },
  {
   "cell_type": "code",
   "execution_count": 11,
   "metadata": {
    "colab": {
     "base_uri": "https://localhost:8080/"
    },
    "id": "XymAhayg-1ed",
    "outputId": "eb31b473-6471-4a1e-85cb-287867989fcd"
   },
   "outputs": [
    {
     "name": "stdout",
     "output_type": "stream",
     "text": [
      "      Project  MethodIndex                                         MethodName\n",
      "0      junit4          331     junit.runner.BaseTestRunner.filterLine(String)\n",
      "1        gson            7  com.google.gson.Gson.atomicLongArrayAdapter(Ty...\n",
      "2       spark            9  spark.staticfiles.StaticFilesConfiguration.con...\n",
      "3     opennlp           57      opennlp.tools.util.AbstractEventStream.read()\n",
      "5     opennlp          131  opennlp.tools.postag.POSSampleEventStream.gene...\n",
      "6   mybatis-3          145  org.apache.ibatis.builder.xml.XMLStatementBuil...\n",
      "13      spark           11  spark.staticfiles.StaticFilesConfiguration.con...\n",
      "22     jcodec          366  org.jcodec.codecs.h264.decode.BlockInterpolato...\n",
      "26  mybatis-3          136  org.apache.ibatis.executor.resultset.ResultSet...\n",
      "28     junit4          354  org.junit.experimental.categories.CategoryFilt...\n",
      "29     junit4          170  org.junit.internal.TextListener.printFooter(Re...\n",
      "30     jcodec          333  org.jcodec.codecs.h264.decode.BlockInterpolato...\n",
      "31     jcodec          408  org.jcodec.containers.mps.MPSUtils.mpeg2Pes(in...\n",
      "35     jcodec          411  org.jcodec.codecs.mpeg4.MPEG4Interpolator.vert...\n",
      "39     jcodec          109  org.jcodec.codecs.h264.decode.BlockInterpolato...\n"
     ]
    }
   ],
   "source": [
    "# copy table\n",
    "dfFilt=df\n",
    "# apply filters unpredictable rogues\n",
    "aveUDThresh=0.5;\n",
    "medUDThresh=0.5;\n",
    "cycThresh=0.3;\n",
    "passThresh=0.2;\n",
    "\n",
    "dfFilt=dfFilt.loc[dfFilt['PropStatPassed']<=passThresh]\n",
    "# \n",
    "#dfFilt=dfFilt.loc[dfFilt['AveUseDefDist/MethodLength']<=aveUDThresh]\n",
    "# \n",
    "dfFilt=dfFilt.loc[dfFilt['MedUseDefDist/MethodLength']>=medUDThresh]\n",
    "# \n",
    "dfFilt=dfFilt.loc[dfFilt['cyc/length']<=cycThresh]\n",
    "# \n",
    "#pandas.set_option('display.max_colwidth', None)\n",
    "print(dfFilt[['Project','MethodIndex','MethodName']])\n",
    "dfFilt.to_csv('unpredictably_bad.csv')"
   ]
  },
  {
   "cell_type": "markdown",
   "metadata": {
    "id": "LFTAZH30__ZJ"
   },
   "source": [
    "# Surprisingly non-APM-able methods (statements)\n",
    "\n",
    "**junit.runner.BaseTestRunner.filterLine**\n",
    "> Falsely large distance between variable definition and use because of multi-line constant definiton of an array.\n",
    "\n",
    "**com.google.gson.Gson.atomicLongArrayAdapter**\n",
    "> Consists of inlined inner class declaration with inline-overriden methods with tight dependencies on their parameters. This inner class declaration forms an object which has a method called on it.\n",
    "\n",
    "**spark.staticfiles.StaticFilesConfiguration.configure**\n",
    "> Conditional logic dependent on transforms of object state - no dependencies on parameters.\n",
    "\n",
    "**opennlp.tools.util.AbstractEventStream.read**\n",
    "> Detailed logic dependent on side-effects from parsing stream state (hidden state dependencies.\n",
    "\n",
    "**opennlp.tools.postag.POSSampleEventStream.generateEvents**\n",
    "> This one is surprising - it has tight dependencies on parameters and assigns to a an aggregate variable repeatedly in a loop (whilst accessing another aggregate structure). It could be that the relatively small method length means the relative def/use distance is larger.\n",
    "\n",
    "**org.apache.ibatis.builder.xml.XMLStatementBuilder.parseSelectKeyNode**\n",
    "> as above, tight method. Quite short distances. Call to void parse method that would have to update state to have any effect. \n",
    "\n",
    "## summary\n",
    "\n",
    "There seems to be a combination of causes of the combination of high-def use distance and low cyclomatic complexity coupled with low GI-ability:\n",
    "\n",
    "1. hidden dependencies - in some cases through changes to state of other objects (side-effects) or input streams.\n",
    "\n",
    "2. overestimates of def-use distance - either because the method is quite small (e.g. POSSampleEventStream.generateEvents) giving large relative distances or because single statements span several lines (e.g. junit.runner.BaseTestRunner.filterLine). \n",
    "\n",
    "\n"
   ]
  },
  {
   "cell_type": "code",
   "execution_count": 18,
   "metadata": {
    "colab": {
     "base_uri": "https://localhost:8080/"
    },
    "id": "1AgrBHI2lXtd",
    "outputId": "2e6b8866-3803-4391-8a5b-c4a2695ab7f7"
   },
   "outputs": [
    {
     "name": "stdout",
     "output_type": "stream",
     "text": [
      "       Project  MethodIndex                                         MethodName\n",
      "442     junit4          658  org.junit.internal.runners.ClassRoadie.runAfte...\n",
      "446      druid          440  com.alibaba.druid.pool.DruidPooledConnection.t...\n",
      "454     jcodec          311  org.jcodec.codecs.h264.decode.BlockInterpolato...\n",
      "464  mybatis-3          193  org.apache.ibatis.mapping.CacheBuilder.setStan...\n",
      "466     arthas            2  com.taobao.arthas.core.view.ObjectView.renderO...\n",
      " org.junit.internal.runners.ClassRoadie.runAfte...\n",
      " com.alibaba.druid.pool.DruidPooledConnection.t...\n",
      " org.jcodec.codecs.h264.decode.BlockInterpolato...\n",
      " org.apache.ibatis.mapping.CacheBuilder.setStan...\n",
      " com.taobao.arthas.core.view.ObjectView.renderO...\n"
     ]
    }
   ],
   "source": [
    "# copy table\n",
    "dfFilt=df\n",
    "# apply filters unpredictable rogues\n",
    "aveUDThresh=0.3;\n",
    "medUDThresh=0.2;\n",
    "cycThresh=0.5;\n",
    "passThresh=0.5;\n",
    "\n",
    "dfFilt=dfFilt.loc[dfFilt['PropStatPassed']>=passThresh]\n",
    "# \n",
    "#dfFilt=dfFilt.loc[dfFilt['AveUseDefDist/MethodLength']<=aveUDThresh]\n",
    "# \n",
    "dfFilt=dfFilt.loc[dfFilt['MedUseDefDist/MethodLength']<=medUDThresh]\n",
    "# \n",
    "#dfFilt=dfFilt.loc[dfFilt['cyc/length']>=cycThresh] #dropped this constraint to get some samples\n",
    "# \n",
    "#pandas.set_option('display.max_colwidth', None)\n",
    "print(dfFilt[['Project','MethodIndex','MethodName']])\n",
    "print(dfFilt['MethodName'].to_string(index=False))\n",
    "dfFilt.to_csv('unpredictably_good.csv')"
   ]
  },
  {
   "cell_type": "markdown",
   "metadata": {
    "id": "1EuROc1cmR1c"
   },
   "source": [
    "# Surprisingly APM-able methods (statements)\n",
    "Only the first of these meets the criterion for both median def use and cyclomatic complexity. If we ignore the cyclomatic complexity threshold we get the other four.\n",
    "\n",
    "**com.alibaba.druid.pool.DruidPooledConnection.transactionRecord**\n",
    "> two mutually exclusive guarded if-statements that can be run independently. Strong dependencies within each. Falsification would rely on thorough testing. (might not be as amenable to line edits)\n",
    "\n",
    "**org.junit.internal.runners.ClassRoadie.runAfters**\n",
    "> small method with two catch blocks. one is explicitly labelled as likely to be impossible to be activated (possible dead code).\n",
    "\n",
    "**org.jcodec.codecs.h264.decode.BlockInterpolator.getLuma23**\n",
    "> two calls with side effects followed by a nested for loop. Perhaps two pairs of statements that can be swapped without causing failure. \n",
    "\n",
    "**org.apache.ibatis.mapping.CacheBuilder.setStandardDecorators**\n",
    "> heavily dependent on parameters. Try catch block with independent if-statements some of which look like they could be re-ordered.\n",
    "\n",
    "**com.taobao.arthas.core.view.ObjectView.renderObject**\n",
    "> Strong sequential dependencies. Recursive descent of structure, nested if, else-if, else statements - would require comprehensive testing to pick up destructive edits. Arthas has limited test coverage? \n",
    "\n",
    "\n",
    "## summary\n",
    "The full predictor is good at not wrongfully convicting methods as being non-gi-able. When the cyclomatic complexity filter is removed the methods that tend to be wrongfully labelled as non-gi-able might have issues with test coverage (once explicitly labelled in comments). In the one case where the full filter set wrongly labels a method that method has some GI-ability at the statement-block level."
   ]
  },
  {
   "cell_type": "markdown",
   "metadata": {},
   "source": [
    "# Filters (Lines)\n",
    "\n",
    "Now we filter our methods to populate the table above but for lines."
   ]
  },
  {
   "cell_type": "code",
   "execution_count": 13,
   "metadata": {
    "colab": {
     "base_uri": "https://localhost:8080/"
    },
    "id": "PkFRRLGbsqtV",
    "outputId": "57889bdf-cfda-4d72-ebfe-cc37f8139617"
   },
   "outputs": [
    {
     "name": "stdout",
     "output_type": "stream",
     "text": [
      "       Project  MethodIndex                                         MethodName\n",
      "6    mybatis-3          145  org.apache.ibatis.builder.xml.XMLStatementBuil...\n",
      "68       druid          623  com.alibaba.druid.pool.DruidPooledConnection.c...\n",
      "108      druid          806  com.alibaba.druid.sql.dialect.oracle.parser.Or...\n",
      "118      druid          505  com.alibaba.druid.sql.dialect.mysql.parser.MyS...\n",
      "144  mybatis-3           38  org.apache.ibatis.builder.xml.XMLConfigBuilder...\n",
      "173  spatial4j           27  org.locationtech.spatial4j.context.SpatialCont...\n"
     ]
    }
   ],
   "source": [
    "# little filter on coverage\n",
    "dfFilt=df # copy table ref\n",
    "dfFilt=dfFilt.loc[dfFilt['InstCoverage']>=1] # include only those who have 100% coverage\n",
    "\n",
    "# apply filters Good Citizens (high pass)\n",
    "aveUDThresh=0.5;\n",
    "medUDThresh=0.5;\n",
    "cycThresh=0.3;\n",
    "passThresh=0.3;\n",
    "\n",
    "dfFilt=dfFilt.loc[dfFilt['PropLinePassed']>=passThresh]\n",
    "# \n",
    "#dfFilt=dfFilt.loc[dfFilt['AveUseDefDist/MethodLength']>=aveUDThresh]\n",
    "# \n",
    "dfFilt=dfFilt.loc[dfFilt['MedUseDefDist/MethodLength']>=medUDThresh]\n",
    "# \n",
    "dfFilt=dfFilt.loc[dfFilt['cyc/length']<=cycThresh]\n",
    "# \n",
    "#pandas.set_option('display.max_colwidth', None)\n",
    "print(dfFilt[['Project','MethodIndex','MethodName']])\n",
    "dfFilt.to_csv('predictably_good_lines.csv')"
   ]
  },
  {
   "attachments": {},
   "cell_type": "markdown",
   "metadata": {},
   "source": [
    "# Predictably APM-able Methods (lines)\n",
    "\n",
    "Listing only the ones which weren't detected by the statement filter\n",
    "\n",
    "org.apache.ibatis.builder.xml.XMLStatementBuilder.parseSelectKeyNode(String,XNode,Class\\<?>,LanguageDriver,String) \n",
    "> Lots of independent assignment statements in the initial part of the method. Almost no nesting.\n",
    "\n",
    "\n",
    "com.alibaba.druid.pool.DruidPooledConnection.checkState()\n",
    "> very low number of line dependencies. Some guarded lines of code? Not sure if the states protected  by the guards are active in testing. Doesn't look particularly line-editable if thoroughly tested.\n",
    "\n",
    "\n",
    "org.locationtech.spatial4j.context.SpatialContextFactory.checkDefaultFormats()\n",
    "> Seems to be adding to collections of writers and readers - could well be independent which would allow easy reording of lines within the two if statements in this method.\n",
    "\n",
    "## summary \n",
    "same pattern as for predictably gi-able statment edits."
   ]
  },
  {
   "cell_type": "code",
   "execution_count": 14,
   "metadata": {
    "colab": {
     "base_uri": "https://localhost:8080/"
    },
    "id": "ykNspC9-tYJH",
    "outputId": "2e55df77-c857-4625-d127-9943be287aeb"
   },
   "outputs": [
    {
     "name": "stdout",
     "output_type": "stream",
     "text": [
      "       Project  MethodIndex                                         MethodName\n",
      "297     jcodec          404  org.jcodec.codecs.h264.io.CABAC.readIntraChrom...\n",
      "300    opennlp           18  opennlp.tools.ml.model.ComparableEvent.compare...\n",
      "308     jcodec          125  org.jcodec.codecs.h264.decode.SliceReader.read...\n",
      "331      spark           18  spark.utils.MimeParse.fitnessAndQualityParsed(...\n",
      "338     jcodec          353  org.jcodec.codecs.h264.io.CABAC.readMBQpDelta(...\n",
      "398    opennlp           80  opennlp.tools.ml.model.ComparablePredicate.com...\n",
      "400  mybatis-3           14  org.apache.ibatis.builder.xml.XMLConfigBuilder...\n",
      "416       gson           27           com.google.gson.JsonParser.parse(Reader)\n",
      "420     arthas            3  com.taobao.arthas.core.util.TokenUtils.findSec...\n"
     ]
    }
   ],
   "source": [
    "# copy table\n",
    "dfFilt=df\n",
    "# apply filters Good Citizens (low pass)\n",
    "aveUDThresh=0.3;\n",
    "medUDThresh=0.2;\n",
    "cycThresh=0.5;\n",
    "passThresh=0.1;\n",
    "\n",
    "dfFilt=dfFilt.loc[dfFilt['PropLinePassed']<=passThresh]\n",
    "# \n",
    "#dfFilt=dfFilt.loc[dfFilt['AveUseDefDist/MethodLength']<=aveUDThresh]\n",
    "# \n",
    "dfFilt=dfFilt.loc[dfFilt['MedUseDefDist/MethodLength']<=medUDThresh]\n",
    "# \n",
    "dfFilt=dfFilt.loc[dfFilt['cyc/length']>=cycThresh]\n",
    "# \n",
    "#pandas.set_option('display.max_colwidth', None)\n",
    "print(dfFilt[['Project','MethodIndex','MethodName']])\n",
    "dfFilt.to_csv('predictably_bad_line.csv')"
   ]
  },
  {
   "attachments": {},
   "cell_type": "markdown",
   "metadata": {},
   "source": [
    "# predicatably non-gi-able (lines)\n",
    "\n",
    "Listing only the ones which weren't detected by the statement filter\n",
    "\n",
    "org.jcodec.codecs.h264.io.CABAC.readMBQpDelta(MDecoder,MBType)\n",
    ">very tight local dependencies. Would be bad also for statements (and it is close to the bad boundary for statement)\n",
    "\n",
    "\n",
    "opennlp.tools.ml.model.ComparablePredicate.compareTo(ComparablePredicate)\n",
    ">strong dependencies between both  lines and statements of code. \n",
    "\n",
    "\n",
    "org.apache.ibatis.builder.xml.XMLConfigBuilder.mapperElement(XNode)\n",
    ">tight control and data dependencies. \n",
    "\n",
    "\n",
    "com.google.gson.JsonParser.parse(Reader)\n",
    ">very short method with try catches and very tight dependencies.\n",
    "\n",
    "## summary\n",
    "same patterns here as for statements. Tight data and control dependencies."
   ]
  },
  {
   "cell_type": "code",
   "execution_count": 15,
   "metadata": {
    "colab": {
     "base_uri": "https://localhost:8080/"
    },
    "id": "xL4L_7vht1V0",
    "outputId": "d42c095c-561d-49d1-eae2-e37a4750bd9a",
    "scrolled": true
   },
   "outputs": [
    {
     "name": "stdout",
     "output_type": "stream",
     "text": [
      "      Project  MethodIndex                                         MethodName\n",
      "0      junit4          331     junit.runner.BaseTestRunner.filterLine(String)\n",
      "1        gson            7  com.google.gson.Gson.atomicLongArrayAdapter(Ty...\n",
      "2       spark            9  spark.staticfiles.StaticFilesConfiguration.con...\n",
      "4        gson            2               com.google.gson.GsonBuilder.create()\n",
      "5     opennlp          131  opennlp.tools.postag.POSSampleEventStream.gene...\n",
      "8      jcodec           79  org.jcodec.codecs.h264.decode.SliceReader.read...\n",
      "13      spark           11  spark.staticfiles.StaticFilesConfiguration.con...\n",
      "21     jcodec          471  org.jcodec.codecs.h264.decode.SliceHeaderReade...\n",
      "22     jcodec          366  org.jcodec.codecs.h264.decode.BlockInterpolato...\n",
      "26  mybatis-3          136  org.apache.ibatis.executor.resultset.ResultSet...\n",
      "28     junit4          354  org.junit.experimental.categories.CategoryFilt...\n",
      "29     junit4          170  org.junit.internal.TextListener.printFooter(Re...\n",
      "30     jcodec          333  org.jcodec.codecs.h264.decode.BlockInterpolato...\n",
      "35     jcodec          411  org.jcodec.codecs.mpeg4.MPEG4Interpolator.vert...\n",
      "71  mybatis-3          258  org.apache.ibatis.builder.BaseBuilder.resolveT...\n",
      "78     jcodec          290  org.jcodec.common.io.DummyBitstreamReader.read...\n",
      "80      druid          569  com.alibaba.druid.pool.DruidDataSource.emptySi...\n"
     ]
    }
   ],
   "source": [
    "# copy table\n",
    "dfFilt=df\n",
    "# apply filters unpredictable rogues\n",
    "aveUDThresh=0.5;\n",
    "medUDThresh=0.5;\n",
    "cycThresh=0.3;\n",
    "passThresh=0.1;\n",
    "\n",
    "dfFilt=dfFilt.loc[dfFilt['PropLinePassed']<=passThresh]\n",
    "# \n",
    "#dfFilt=dfFilt.loc[dfFilt['AveUseDefDist/MethodLength']<=aveUDThresh]\n",
    "# \n",
    "dfFilt=dfFilt.loc[dfFilt['MedUseDefDist/MethodLength']>=medUDThresh]\n",
    "# \n",
    "dfFilt=dfFilt.loc[dfFilt['cyc/length']<=cycThresh]\n",
    "# \n",
    "#pandas.set_option('display.max_colwidth', None)\n",
    "print(dfFilt[['Project','MethodIndex','MethodName']])\n",
    "dfFilt.to_csv('unpredictably_bad_line.csv')"
   ]
  },
  {
   "attachments": {},
   "cell_type": "markdown",
   "metadata": {},
   "source": [
    "# unpredicatably non-gi-able (lines)\n",
    "\n",
    "\n",
    "com.google.gson.GsonBuilder.create()\n",
    ">average def-use distance exaggerated by large multiline return statement. Possible hidden dependencies through side-effects on factory object.\n",
    "\n",
    "\n",
    "org.jcodec.codecs.h264.decode.SliceReader.readMBlock(MBlock,SliceType)\n",
    ">moderately tight line dependencies. Could be some side effect on mblock structure. \n",
    "\n",
    "org.jcodec.codecs.h264.decode.SliceHeaderReader.readReorderingEntries(BitReader)\n",
    ">short method with implicit sequential dependencies through calls to add in ArrayList objects.\n",
    "\n",
    "org.apache.ibatis.builder.BaseBuilder.resolveTypeHandler(Class,Class>)\n",
    ">Short method with tight control dependencies.\n",
    "\n",
    "org.jcodec.common.io.DummyBitstreamReader.read1BitInt()\n",
    ">Side effect through stream reader state embedded in object.\n",
    "\n",
    "com.alibaba.druid.pool.DruidDataSource.emptySignal()\n",
    ">cascading if control dependent on object state. statements that update\n",
    "object state - could be implicit dependencies.\n",
    "\n",
    "## summary\n",
    "same patterns as seen for statements - hidden dependencies/side effects."
   ]
  },
  {
   "cell_type": "code",
   "execution_count": 16,
   "metadata": {},
   "outputs": [
    {
     "name": "stdout",
     "output_type": "stream",
     "text": [
      "    Project  MethodIndex                                         MethodName\n",
      "362   druid          631    com.alibaba.druid.util.FnvHash.fnv1a_64(String)\n",
      "396  jcodec          262      org.jcodec.containers.mxf.model.UL.toString()\n",
      "457   druid          690  com.alibaba.druid.sql.ast.expr.SQLPropertyExpr...\n",
      "   com.alibaba.druid.util.FnvHash.fnv1a_64(String)\n",
      "     org.jcodec.containers.mxf.model.UL.toString()\n",
      " com.alibaba.druid.sql.ast.expr.SQLPropertyExpr...\n"
     ]
    }
   ],
   "source": [
    "# copy table\n",
    "dfFilt=df\n",
    "# apply filters unpredictable rogues\n",
    "aveUDThresh=0.3;\n",
    "medUDThresh=0.2;\n",
    "cycThresh=0.5;\n",
    "passThresh=0.3;\n",
    "\n",
    "dfFilt=dfFilt.loc[dfFilt['PropLinePassed']>=passThresh]\n",
    "# \n",
    "#dfFilt=dfFilt.loc[dfFilt['AveUseDefDist/MethodLength']<=aveUDThresh]\n",
    "# \n",
    "dfFilt=dfFilt.loc[dfFilt['MedUseDefDist/MethodLength']<=medUDThresh]\n",
    "# \n",
    "#dfFilt=dfFilt.loc[dfFilt['cyc/length']>=cycThresh]\n",
    "# \n",
    "#pandas.set_option('display.max_colwidth', None)\n",
    "print(dfFilt[['Project','MethodIndex','MethodName']])\n",
    "print(dfFilt['MethodName'].to_string(index=False))\n",
    "dfFilt.to_csv('unpredictably_good_line.csv')"
   ]
  },
  {
   "attachments": {},
   "cell_type": "markdown",
   "metadata": {},
   "source": [
    "# unpredictably gi-able (lines)\n",
    "All three below are new (no overlap with statements)\n",
    "com.alibaba.druid.util.FnvHash.fnv1a_64(String)\n",
    ">Strong sequential dependency (hash function for strings). Can swap two blocks in method.\n",
    "\n",
    "\n",
    "org.jcodec.containers.mxf.model.UL.toString()\n",
    ">Sequential string building. Can reorder some statements but not many.\n",
    "\n",
    "com.alibaba.druid.sql.ast.expr.SQLPropertyExpr.computeHashCode64()\n",
    ">Sequential dependencies and control but some lines are copied and can be substituted for each other. \n",
    "\n",
    "## summary\n",
    "These methods look non-APM-able with the possible exception of the last one that has code clones which can be exchanged without changing semantics.\n"
   ]
  },
  {
   "cell_type": "code",
   "execution_count": null,
   "metadata": {},
   "outputs": [],
   "source": []
  }
 ],
 "metadata": {
  "colab": {
   "collapsed_sections": [],
   "name": "FeaturePlots.ipynb",
   "provenance": []
  },
  "kernelspec": {
   "display_name": "Python 3",
   "language": "python",
   "name": "python3"
  },
  "language_info": {
   "codemirror_mode": {
    "name": "ipython",
    "version": 3
   },
   "file_extension": ".py",
   "mimetype": "text/x-python",
   "name": "python",
   "nbconvert_exporter": "python",
   "pygments_lexer": "ipython3",
   "version": "3.7.3"
  }
 },
 "nbformat": 4,
 "nbformat_minor": 4
}
